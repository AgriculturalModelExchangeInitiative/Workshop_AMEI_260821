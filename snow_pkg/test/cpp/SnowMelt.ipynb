{
 "cells": [
  {
   "cell_type": "markdown",
   "id": "acoustic-anime",
   "metadata": {},
   "source": [
    "# Automatic generation of Notebook using PyCropML\n",
    "    This notebook implements a crop model."
   ]
  },
  {
   "cell_type": "markdown",
   "id": "ordinary-copying",
   "metadata": {},
   "source": [
    "### Domain Class SnowAuxiliary"
   ]
  },
  {
   "cell_type": "code",
   "execution_count": null,
   "id": "exterior-queen",
   "metadata": {},
   "outputs": [],
   "source": [
    "#include \"SnowAuxiliary.h\"\n",
    "SnowAuxiliary::SnowAuxiliary() { }\n",
    "\n",
    "int SnowAuxiliary::getjul() {return this-> jul; }\n",
    "double SnowAuxiliary::gettmin() {return this-> tmin; }\n",
    "double SnowAuxiliary::gettmax() {return this-> tmax; }\n",
    "double SnowAuxiliary::getprecip() {return this-> precip; }\n",
    "double SnowAuxiliary::gettavg() {return this-> tavg; }\n",
    "\n",
    "void SnowAuxiliary::setjul(int _jul) { this->jul = _jul; }\n",
    "void SnowAuxiliary::settmin(double _tmin) { this->tmin = _tmin; }\n",
    "void SnowAuxiliary::settmax(double _tmax) { this->tmax = _tmax; }\n",
    "void SnowAuxiliary::setprecip(double _precip) { this->precip = _precip; }\n",
    "void SnowAuxiliary::settavg(double _tavg) { this->tavg = _tavg; }"
   ]
  },
  {
   "cell_type": "markdown",
   "id": "worth-concrete",
   "metadata": {},
   "source": [
    "### Domain Class SnowRate"
   ]
  },
  {
   "cell_type": "code",
   "execution_count": null,
   "id": "wrong-trail",
   "metadata": {},
   "outputs": [],
   "source": [
    "#include \"SnowRate.h\"\n",
    "SnowRate::SnowRate() { }\n",
    "\n",
    "double SnowRate::getMrf() {return this-> Mrf; }\n",
    "double SnowRate::getSnowaccu() {return this-> Snowaccu; }\n",
    "double SnowRate::getM() {return this-> M; }\n",
    "\n",
    "void SnowRate::setMrf(double _Mrf) { this->Mrf = _Mrf; }\n",
    "void SnowRate::setSnowaccu(double _Snowaccu) { this->Snowaccu = _Snowaccu; }\n",
    "void SnowRate::setM(double _M) { this->M = _M; }"
   ]
  },
  {
   "cell_type": "markdown",
   "id": "supreme-percentage",
   "metadata": {},
   "source": [
    "### Domain Class SnowState"
   ]
  },
  {
   "cell_type": "code",
   "execution_count": null,
   "id": "authorized-lithuania",
   "metadata": {},
   "outputs": [],
   "source": [
    "#include \"SnowState.h\"\n",
    "SnowState::SnowState() { }\n",
    "\n",
    "double SnowState::gettmaxrec() {return this-> tmaxrec; }\n",
    "double SnowState::getps() {return this-> ps; }\n",
    "double SnowState::getSwet() {return this-> Swet; }\n",
    "double SnowState::getSnowmelt() {return this-> Snowmelt; }\n",
    "double SnowState::getSdry() {return this-> Sdry; }\n",
    "double SnowState::getSdepth() {return this-> Sdepth; }\n",
    "double SnowState::gettminrec() {return this-> tminrec; }\n",
    "double SnowState::getpreciprec() {return this-> preciprec; }\n",
    "double SnowState::getSdepth_cm() {return this-> Sdepth_cm; }\n",
    "\n",
    "void SnowState::settmaxrec(double _tmaxrec) { this->tmaxrec = _tmaxrec; }\n",
    "void SnowState::setps(double _ps) { this->ps = _ps; }\n",
    "void SnowState::setSwet(double _Swet) { this->Swet = _Swet; }\n",
    "void SnowState::setSnowmelt(double _Snowmelt) { this->Snowmelt = _Snowmelt; }\n",
    "void SnowState::setSdry(double _Sdry) { this->Sdry = _Sdry; }\n",
    "void SnowState::setSdepth(double _Sdepth) { this->Sdepth = _Sdepth; }\n",
    "void SnowState::settminrec(double _tminrec) { this->tminrec = _tminrec; }\n",
    "void SnowState::setpreciprec(double _preciprec) { this->preciprec = _preciprec; }\n",
    "void SnowState::setSdepth_cm(double _Sdepth_cm) { this->Sdepth_cm = _Sdepth_cm; }"
   ]
  },
  {
   "cell_type": "markdown",
   "id": "lovely-consent",
   "metadata": {},
   "source": [
    "### Model SnowMelt"
   ]
  },
  {
   "cell_type": "code",
   "execution_count": null,
   "id": "dynamic-missouri",
   "metadata": {},
   "outputs": [],
   "source": [
    "#define _USE_MATH_DEFINES\n",
    "#include <cmath>\n",
    "#include <iostream>\n",
    "# include<vector>\n",
    "# include<string>\n",
    "# include<numeric>\n",
    "# include<algorithm>\n",
    "# include<array>\n",
    "#include <map>\n",
    "# include <tuple>\n",
    "#include \"Snowmelt.h\"\n",
    "using namespace std;\n",
    "\n",
    "Snowmelt::Snowmelt() { }\n",
    "void Snowmelt::Calculate_Model(SnowState& s, SnowState& s1, SnowRate& r, SnowAuxiliary& a)\n",
    "{\n",
    "    //- Name: SnowMelt -Version: 1.0, -Time step: 1\n",
    "    //- Description:\n",
    "    //            * Title: Snow Melt\n",
    "    //            * Author: STICS\n",
    "    //            * Reference: -\n",
    "    //            * Institution: INRA\n",
    "    //            * Abstract: -\n",
    "    //- inputs:\n",
    "    //            * name: ps\n",
    "    //                          ** description : density of snow cover\n",
    "    //                          ** inputtype : variable\n",
    "    //                          ** variablecategory : state\n",
    "    //                          ** datatype : DOUBLE\n",
    "    //                          ** default : 0.0\n",
    "    //                          ** min : 0.0\n",
    "    //                          ** max : 5000.0\n",
    "    //                          ** unit : kg/m**3\n",
    "    //                          ** uri : \n",
    "    //            * name: M\n",
    "    //                          ** description : snow in the process of melting\n",
    "    //                          ** inputtype : variable\n",
    "    //                          ** variablecategory : rate\n",
    "    //                          ** datatype : DOUBLE\n",
    "    //                          ** default : 0.0\n",
    "    //                          ** min : \n",
    "    //                          ** max : \n",
    "    //                          ** unit : mmW/d\n",
    "    //                          ** uri : \n",
    "    //- outputs:\n",
    "    //            * name: Snowmelt\n",
    "    //                          ** description : Snow melt\n",
    "    //                          ** variablecategory : state\n",
    "    //                          ** datatype : DOUBLE\n",
    "    //                          ** min : 0.0\n",
    "    //                          ** max : 500.0\n",
    "    //                          ** unit : m\n",
    "    //                          ** uri : \n",
    "    double ps = s.getps();\n",
    "    double M = r.getM();\n",
    "    double Snowmelt;\n",
    "    Snowmelt = 0.0d;\n",
    "    if (ps > 1e-8d)\n",
    "    {\n",
    "        Snowmelt = M / ps;\n",
    "    }\n",
    "    s.setSnowmelt(Snowmelt);\n",
    "}"
   ]
  },
  {
   "cell_type": "code",
   "execution_count": null,
   "id": "adopted-exemption",
   "metadata": {},
   "outputs": [],
   "source": [
    "class Test\n",
    "{\n",
    "    SnowState s = new SnowState();\n",
    "    SnowState s1 = new SnowState();\n",
    "    SnowRate r = new SnowRate();\n",
    "    SnowAuxiliary a = new SnowAuxiliary();\n",
    "    Snowmelt mod = new Snowmelt();\n",
    "    //check snow model);\n",
    "    //test_snow1\n",
    "\n",
    "    public void test_snow1()\n",
    "    {\n",
    "        r.M = 10.0D;\n",
    "        s.ps = 200.0D;\n",
    "        mod.Calculate_snowmelt(s,s1, r, a);\n",
    "        //Snowmelt: 0.05;\n",
    "        Console.WriteLine(\"Snowmelt estimated :\");\n",
    "        Console.WriteLine(s.Snowmelt);\n",
    "    }\n",
    "}\n",
    "Test t = new Test();\n",
    "t.test_snow1();\n"
   ]
  }
 ],
 "metadata": {},
 "nbformat": 4,
 "nbformat_minor": 5
}
