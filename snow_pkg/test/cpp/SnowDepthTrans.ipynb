{
 "cells": [
  {
   "cell_type": "markdown",
   "id": "conceptual-marks",
   "metadata": {},
   "source": [
    "# Automatic generation of Notebook using PyCropML\n",
    "    This notebook implements a crop model."
   ]
  },
  {
   "cell_type": "markdown",
   "id": "changed-reproduction",
   "metadata": {},
   "source": [
    "### Domain Class SnowAuxiliary"
   ]
  },
  {
   "cell_type": "code",
   "execution_count": null,
   "id": "searching-contamination",
   "metadata": {},
   "outputs": [],
   "source": [
    "#include \"SnowAuxiliary.h\"\n",
    "SnowAuxiliary::SnowAuxiliary() { }\n",
    "\n",
    "int SnowAuxiliary::getjul() {return this-> jul; }\n",
    "double SnowAuxiliary::gettmin() {return this-> tmin; }\n",
    "double SnowAuxiliary::gettmax() {return this-> tmax; }\n",
    "double SnowAuxiliary::getprecip() {return this-> precip; }\n",
    "double SnowAuxiliary::gettavg() {return this-> tavg; }\n",
    "\n",
    "void SnowAuxiliary::setjul(int _jul) { this->jul = _jul; }\n",
    "void SnowAuxiliary::settmin(double _tmin) { this->tmin = _tmin; }\n",
    "void SnowAuxiliary::settmax(double _tmax) { this->tmax = _tmax; }\n",
    "void SnowAuxiliary::setprecip(double _precip) { this->precip = _precip; }\n",
    "void SnowAuxiliary::settavg(double _tavg) { this->tavg = _tavg; }"
   ]
  },
  {
   "cell_type": "markdown",
   "id": "challenging-harvard",
   "metadata": {},
   "source": [
    "### Domain Class SnowRate"
   ]
  },
  {
   "cell_type": "code",
   "execution_count": null,
   "id": "black-offering",
   "metadata": {},
   "outputs": [],
   "source": [
    "#include \"SnowRate.h\"\n",
    "SnowRate::SnowRate() { }\n",
    "\n",
    "double SnowRate::getMrf() {return this-> Mrf; }\n",
    "double SnowRate::getSnowaccu() {return this-> Snowaccu; }\n",
    "double SnowRate::getM() {return this-> M; }\n",
    "\n",
    "void SnowRate::setMrf(double _Mrf) { this->Mrf = _Mrf; }\n",
    "void SnowRate::setSnowaccu(double _Snowaccu) { this->Snowaccu = _Snowaccu; }\n",
    "void SnowRate::setM(double _M) { this->M = _M; }"
   ]
  },
  {
   "cell_type": "markdown",
   "id": "cross-coordination",
   "metadata": {},
   "source": [
    "### Domain Class SnowState"
   ]
  },
  {
   "cell_type": "code",
   "execution_count": null,
   "id": "blocked-proceeding",
   "metadata": {},
   "outputs": [],
   "source": [
    "#include \"SnowState.h\"\n",
    "SnowState::SnowState() { }\n",
    "\n",
    "double SnowState::gettmaxrec() {return this-> tmaxrec; }\n",
    "double SnowState::getps() {return this-> ps; }\n",
    "double SnowState::getSwet() {return this-> Swet; }\n",
    "double SnowState::getSnowmelt() {return this-> Snowmelt; }\n",
    "double SnowState::getSdry() {return this-> Sdry; }\n",
    "double SnowState::getSdepth() {return this-> Sdepth; }\n",
    "double SnowState::gettminrec() {return this-> tminrec; }\n",
    "double SnowState::getpreciprec() {return this-> preciprec; }\n",
    "double SnowState::getSdepth_cm() {return this-> Sdepth_cm; }\n",
    "\n",
    "void SnowState::settmaxrec(double _tmaxrec) { this->tmaxrec = _tmaxrec; }\n",
    "void SnowState::setps(double _ps) { this->ps = _ps; }\n",
    "void SnowState::setSwet(double _Swet) { this->Swet = _Swet; }\n",
    "void SnowState::setSnowmelt(double _Snowmelt) { this->Snowmelt = _Snowmelt; }\n",
    "void SnowState::setSdry(double _Sdry) { this->Sdry = _Sdry; }\n",
    "void SnowState::setSdepth(double _Sdepth) { this->Sdepth = _Sdepth; }\n",
    "void SnowState::settminrec(double _tminrec) { this->tminrec = _tminrec; }\n",
    "void SnowState::setpreciprec(double _preciprec) { this->preciprec = _preciprec; }\n",
    "void SnowState::setSdepth_cm(double _Sdepth_cm) { this->Sdepth_cm = _Sdepth_cm; }"
   ]
  },
  {
   "cell_type": "markdown",
   "id": "deadly-arlington",
   "metadata": {},
   "source": [
    "### Model SnowDepthTrans"
   ]
  },
  {
   "cell_type": "code",
   "execution_count": null,
   "id": "referenced-dublin",
   "metadata": {},
   "outputs": [],
   "source": [
    "#define _USE_MATH_DEFINES\n",
    "#include <cmath>\n",
    "#include <iostream>\n",
    "# include<vector>\n",
    "# include<string>\n",
    "# include<numeric>\n",
    "# include<algorithm>\n",
    "# include<array>\n",
    "#include <map>\n",
    "# include <tuple>\n",
    "#include \"Snowdepthtrans.h\"\n",
    "using namespace std;\n",
    "\n",
    "Snowdepthtrans::Snowdepthtrans() { }\n",
    "double Snowdepthtrans::getPns() {return this-> Pns; }\n",
    "void Snowdepthtrans::setPns(double _Pns) { this->Pns = _Pns; }\n",
    "void Snowdepthtrans::Calculate_Model(SnowState& s, SnowState& s1, SnowRate& r, SnowAuxiliary& a)\n",
    "{\n",
    "    //- Name: SnowDepthTrans -Version: 1.0, -Time step: 1\n",
    "    //- Description:\n",
    "    //            * Title: snow cover depth conversion\n",
    "    //            * Author: STICS\n",
    "    //            * Reference: -\n",
    "    //            * Institution: INRA\n",
    "    //            * Abstract: -\n",
    "    //- inputs:\n",
    "    //            * name: Sdepth\n",
    "    //                          ** description : snow cover depth Calculation\n",
    "    //                          ** inputtype : variable\n",
    "    //                          ** variablecategory : state\n",
    "    //                          ** datatype : DOUBLE\n",
    "    //                          ** default : 0.0\n",
    "    //                          ** min : 0.0\n",
    "    //                          ** max : 500.0\n",
    "    //                          ** unit : m\n",
    "    //                          ** uri : \n",
    "    //            * name: Pns\n",
    "    //                          ** description : density of the new snow\n",
    "    //                          ** inputtype : parameter\n",
    "    //                          ** parametercategory : constant\n",
    "    //                          ** datatype : DOUBLE\n",
    "    //                          ** default : 100.0\n",
    "    //                          ** min : \n",
    "    //                          ** max : \n",
    "    //                          ** unit : cm/m\n",
    "    //                          ** uri : \n",
    "    //- outputs:\n",
    "    //            * name: Sdepth_cm\n",
    "    //                          ** description : snow cover depth in cm\n",
    "    //                          ** variablecategory : state\n",
    "    //                          ** datatype : DOUBLE\n",
    "    //                          ** min : 0.0\n",
    "    //                          ** max : 500.0\n",
    "    //                          ** unit : cm\n",
    "    //                          ** uri : \n",
    "    double Sdepth = s.getSdepth();\n",
    "    double Sdepth_cm;\n",
    "    Sdepth_cm = Sdepth * Pns;\n",
    "    s.setSdepth_cm(Sdepth_cm);\n",
    "}"
   ]
  },
  {
   "cell_type": "code",
   "execution_count": null,
   "id": "serious-energy",
   "metadata": {},
   "outputs": [],
   "source": [
    "class Test\n",
    "{\n",
    "    SnowState s = new SnowState();\n",
    "    SnowState s1 = new SnowState();\n",
    "    SnowRate r = new SnowRate();\n",
    "    SnowAuxiliary a = new SnowAuxiliary();\n",
    "    Snowdepthtrans mod = new Snowdepthtrans();\n",
    "    //check snow model);\n",
    "    //test_snow1\n",
    "\n",
    "    public void test_snow1()\n",
    "    {\n",
    "        mod.Pns = 100.0D;\n",
    "        s.Sdepth = 0.050D;\n",
    "        mod.Calculate_snowdepthtrans(s,s1, r, a);\n",
    "        //Sdepth_cm: 5;\n",
    "        Console.WriteLine(\"Sdepth_cm estimated :\");\n",
    "        Console.WriteLine(s.Sdepth_cm);\n",
    "    }\n",
    "}\n",
    "Test t = new Test();\n",
    "t.test_snow1();\n"
   ]
  }
 ],
 "metadata": {},
 "nbformat": 4,
 "nbformat_minor": 5
}
