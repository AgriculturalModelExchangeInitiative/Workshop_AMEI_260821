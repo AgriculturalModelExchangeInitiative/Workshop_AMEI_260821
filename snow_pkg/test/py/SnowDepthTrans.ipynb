{
 "cells": [
  {
   "cell_type": "markdown",
   "id": "distant-destiny",
   "metadata": {},
   "source": [
    "# Automatic generation of Notebook using PyCropML\n",
    "    This notebook implements a crop model."
   ]
  },
  {
   "cell_type": "markdown",
   "id": "bronze-stamp",
   "metadata": {},
   "source": [
    "### Model SnowDepthTrans"
   ]
  },
  {
   "cell_type": "code",
   "execution_count": null,
   "id": "terminal-member",
   "metadata": {},
   "outputs": [],
   "source": [
    "# coding: utf8\n",
    "from pycropml.units import u\n",
    "from copy import copy\n",
    "from array import array\n",
    "from math import *\n",
    "\n",
    "import numpy\n",
    "from math import *\n",
    "\n",
    "def model_SnowDepthTrans(Sdepth = 0.0,\n",
    "         Pns = 100.0):\n",
    "    \"\"\"\n",
    "     - Name: SnowDepthTrans -Version: 1.0, -Time step: 1\n",
    "     - Description:\n",
    "                 * Title: snow cover depth conversion\n",
    "                 * Author: STICS\n",
    "                 * Reference: -\n",
    "                 * Institution: INRA\n",
    "                 * Abstract: -\n",
    "     - inputs:\n",
    "                 * name: Sdepth\n",
    "                               ** description : snow cover depth Calculation\n",
    "                               ** inputtype : variable\n",
    "                               ** variablecategory : state\n",
    "                               ** datatype : DOUBLE\n",
    "                               ** default : 0.0\n",
    "                               ** min : 0.0\n",
    "                               ** max : 500.0\n",
    "                               ** unit : m\n",
    "                               ** uri : \n",
    "                 * name: Pns\n",
    "                               ** description : density of the new snow\n",
    "                               ** inputtype : parameter\n",
    "                               ** parametercategory : constant\n",
    "                               ** datatype : DOUBLE\n",
    "                               ** default : 100.0\n",
    "                               ** min : \n",
    "                               ** max : \n",
    "                               ** unit : cm/m\n",
    "                               ** uri : \n",
    "     - outputs:\n",
    "                 * name: Sdepth_cm\n",
    "                               ** description : snow cover depth in cm\n",
    "                               ** variablecategory : state\n",
    "                               ** datatype : DOUBLE\n",
    "                               ** min : 0.0\n",
    "                               ** max : 500.0\n",
    "                               ** unit : cm\n",
    "                               ** uri : \n",
    "    \"\"\"\n",
    "\n",
    "    Sdepth_cm = Sdepth * Pns\n",
    "    return Sdepth_cm"
   ]
  },
  {
   "cell_type": "code",
   "execution_count": null,
   "id": "champion-excuse",
   "metadata": {},
   "outputs": [],
   "source": [
    "from pycropml.units import u"
   ]
  },
  {
   "cell_type": "code",
   "execution_count": null,
   "id": "identical-voice",
   "metadata": {},
   "outputs": [],
   "source": [
    "params= model_snowdepthtrans(\n",
    "    Pns = 100.0*u.cm/u.m,\n",
    "    Sdepth = 0.050*u.m,\n",
    "     )\n",
    "Sdepth_cm_estimated =params.round(2)*params.units\n",
    "Sdepth_cm_computed = 5*u.cm\n",
    "assert Sdepth_cm_computed == Sdepth_cm_estimated"
   ]
  }
 ],
 "metadata": {},
 "nbformat": 4,
 "nbformat_minor": 5
}
