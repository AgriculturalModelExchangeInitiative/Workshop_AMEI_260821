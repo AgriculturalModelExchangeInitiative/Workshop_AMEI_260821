{
 "cells": [
  {
   "cell_type": "markdown",
   "id": "ranging-median",
   "metadata": {},
   "source": [
    "# Automatic generation of Notebook using PyCropML\n",
    "    This notebook implements a crop model."
   ]
  },
  {
   "cell_type": "markdown",
   "id": "acoustic-finland",
   "metadata": {},
   "source": [
    "### Model SnowMelt"
   ]
  },
  {
   "cell_type": "code",
   "execution_count": null,
   "id": "increased-castle",
   "metadata": {},
   "outputs": [],
   "source": [
    "# coding: utf8\n",
    "from pycropml.units import u\n",
    "from copy import copy\n",
    "from array import array\n",
    "from math import *\n",
    "\n",
    "import numpy\n",
    "from math import *\n",
    "\n",
    "def model_SnowMelt(ps = 0.0,\n",
    "         M = 0.0):\n",
    "    \"\"\"\n",
    "     - Name: SnowMelt -Version: 1.0, -Time step: 1\n",
    "     - Description:\n",
    "                 * Title: Snow Melt\n",
    "                 * Author: STICS\n",
    "                 * Reference: -\n",
    "                 * Institution: INRA\n",
    "                 * Abstract: -\n",
    "     - inputs:\n",
    "                 * name: ps\n",
    "                               ** description : density of snow cover\n",
    "                               ** inputtype : variable\n",
    "                               ** variablecategory : state\n",
    "                               ** datatype : DOUBLE\n",
    "                               ** default : 0.0\n",
    "                               ** min : 0.0\n",
    "                               ** max : 5000.0\n",
    "                               ** unit : kg/m**3\n",
    "                               ** uri : \n",
    "                 * name: M\n",
    "                               ** description : snow in the process of melting\n",
    "                               ** inputtype : variable\n",
    "                               ** variablecategory : rate\n",
    "                               ** datatype : DOUBLE\n",
    "                               ** default : 0.0\n",
    "                               ** min : \n",
    "                               ** max : \n",
    "                               ** unit : mmW/d\n",
    "                               ** uri : \n",
    "     - outputs:\n",
    "                 * name: Snowmelt\n",
    "                               ** description : Snow melt\n",
    "                               ** variablecategory : state\n",
    "                               ** datatype : DOUBLE\n",
    "                               ** min : 0.0\n",
    "                               ** max : 500.0\n",
    "                               ** unit : m\n",
    "                               ** uri : \n",
    "    \"\"\"\n",
    "\n",
    "    Snowmelt = 0.0*u.m\n",
    "    if ps > 1e-8:\n",
    "        Snowmelt = M*u.d / ps\n",
    "    return Snowmelt"
   ]
  },
  {
   "cell_type": "code",
   "execution_count": null,
   "id": "meaning-sailing",
   "metadata": {},
   "outputs": [],
   "source": [
    "from pycropml.units import u"
   ]
  },
  {
   "cell_type": "code",
   "execution_count": null,
   "id": "viral-aaron",
   "metadata": {},
   "outputs": [],
   "source": [
    "params= model_snowmelt(\n",
    "    M = 10.0*u.mmW/u.d,\n",
    "    ps = 200.0*u.kg/u.m**3,\n",
    "     )\n",
    "Snowmelt_estimated =params.round(2)*params.units\n",
    "Snowmelt_computed = 0.05*u.m\n",
    "assert Snowmelt_computed == Snowmelt_estimated"
   ]
  }
 ],
 "metadata": {},
 "nbformat": 4,
 "nbformat_minor": 5
}
