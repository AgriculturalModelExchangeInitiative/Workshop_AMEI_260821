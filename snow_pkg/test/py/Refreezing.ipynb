{
 "cells": [
  {
   "cell_type": "markdown",
   "id": "north-murray",
   "metadata": {},
   "source": [
    "# Automatic generation of Notebook using PyCropML\n",
    "    This notebook implements a crop model."
   ]
  },
  {
   "cell_type": "markdown",
   "id": "lucky-dubai",
   "metadata": {},
   "source": [
    "### Model Refreezing"
   ]
  },
  {
   "cell_type": "code",
   "execution_count": null,
   "id": "recreational-alpha",
   "metadata": {},
   "outputs": [],
   "source": [
    "# coding: utf8\n",
    "from pycropml.units import u\n",
    "from copy import copy\n",
    "from array import array\n",
    "from math import *\n",
    "\n",
    "import numpy\n",
    "from math import *\n",
    "\n",
    "def model_Refreezing(tavg = 0.0,\n",
    "         Tmf = 0.0,\n",
    "         SWrf = 0.0):\n",
    "    \"\"\"\n",
    "     - Name: Refreezing -Version: 1.0, -Time step: 1\n",
    "     - Description:\n",
    "                 * Title: snowfall accumulation  calculation\n",
    "                 * Author: STICS\n",
    "                 * Reference: -\n",
    "                 * Institution: INRA\n",
    "                 * Abstract: -\n",
    "     - inputs:\n",
    "                 * name: tavg\n",
    "                               ** description : average temperature\n",
    "                               ** inputtype : variable\n",
    "                               ** variablecategory : auxiliary\n",
    "                               ** datatype : DOUBLE\n",
    "                               ** default : 0.0\n",
    "                               ** min : 0.0\n",
    "                               ** max : 100.0\n",
    "                               ** unit : degC\n",
    "                               ** uri : \n",
    "                 * name: Tmf\n",
    "                               ** description : threshold temperature for snow melting \n",
    "                               ** inputtype : parameter\n",
    "                               ** parametercategory : constant\n",
    "                               ** datatype : DOUBLE\n",
    "                               ** default : 0.0\n",
    "                               ** min : 0.0\n",
    "                               ** max : 5000.0\n",
    "                               ** unit : degC\n",
    "                               ** uri : \n",
    "                 * name: SWrf\n",
    "                               ** description : degree-day temperature index for refreezing\n",
    "                               ** inputtype : parameter\n",
    "                               ** parametercategory : constant\n",
    "                               ** datatype : DOUBLE\n",
    "                               ** default : 0.0\n",
    "                               ** min : 0.0\n",
    "                               ** max : 5000.0\n",
    "                               ** unit : mmW/degC/d\n",
    "                               ** uri : \n",
    "     - outputs:\n",
    "                 * name: Mrf\n",
    "                               ** description : liquid water in the snow cover in the process of refreezing\n",
    "                               ** variablecategory : rate\n",
    "                               ** datatype : DOUBLE\n",
    "                               ** min : 0.0\n",
    "                               ** max : 500.0\n",
    "                               ** unit : mmW/d\n",
    "                               ** uri : \n",
    "    \"\"\"\n",
    "\n",
    "    Mrf = 0.0*u.mmW/u.d\n",
    "    if tavg < Tmf:\n",
    "        Mrf = SWrf * (Tmf - tavg)\n",
    "    return Mrf"
   ]
  },
  {
   "cell_type": "code",
   "execution_count": null,
   "id": "loving-music",
   "metadata": {},
   "outputs": [],
   "source": [
    "from pycropml.units import u"
   ]
  },
  {
   "cell_type": "code",
   "execution_count": null,
   "id": "peripheral-ranking",
   "metadata": {},
   "outputs": [],
   "source": [
    "params= model_refreezing(\n",
    "    Tmf = 0.5*u.degC,\n",
    "    SWrf = 0.01*u.mmW/u.degC/u.d,\n",
    "    tavg = -0.2*u.degC,\n",
    "     )\n",
    "Mrf_estimated =params.round(2)*params.units\n",
    "Mrf_computed = 0.01*u.mmW/u.d\n",
    "assert Mrf_computed == Mrf_estimated"
   ]
  }
 ],
 "metadata": {},
 "nbformat": 4,
 "nbformat_minor": 5
}
