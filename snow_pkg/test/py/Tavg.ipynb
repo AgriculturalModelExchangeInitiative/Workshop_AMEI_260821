{
 "cells": [
  {
   "cell_type": "markdown",
   "id": "sensitive-advance",
   "metadata": {},
   "source": [
    "# Automatic generation of Notebook using PyCropML\n",
    "    This notebook implements a crop model."
   ]
  },
  {
   "cell_type": "markdown",
   "id": "rocky-tennis",
   "metadata": {},
   "source": [
    "### Model Tavg"
   ]
  },
  {
   "cell_type": "code",
   "execution_count": null,
   "id": "surgical-indication",
   "metadata": {},
   "outputs": [],
   "source": [
    "# coding: utf8\n",
    "from pycropml.units import u\n",
    "from copy import copy\n",
    "from array import array\n",
    "from math import *\n",
    "\n",
    "import numpy\n",
    "from math import *\n",
    "\n",
    "def model_Tavg(tmin = 0.0,\n",
    "         tmax = 0.0):\n",
    "    \"\"\"\n",
    "     - Name: Tavg -Version: 1.0, -Time step: 1\n",
    "     - Description:\n",
    "                 * Title: Mean temperature  calculation\n",
    "                 * Author: STICS\n",
    "                 * Reference: -\n",
    "                 * Institution: INRA\n",
    "                 * Abstract: -\n",
    "     - inputs:\n",
    "                 * name: tmin\n",
    "                               ** description : current minimum air temperature\n",
    "                               ** inputtype : variable\n",
    "                               ** variablecategory : auxiliary\n",
    "                               ** datatype : DOUBLE\n",
    "                               ** default : 0.0\n",
    "                               ** min : 0.0\n",
    "                               ** max : 500.0\n",
    "                               ** unit : degC\n",
    "                               ** uri : \n",
    "                 * name: tmax\n",
    "                               ** description : current maximum air temperature\n",
    "                               ** inputtype : variable\n",
    "                               ** variablecategory : auxiliary\n",
    "                               ** datatype : DOUBLE\n",
    "                               ** default : 0.0\n",
    "                               ** min : 0.0\n",
    "                               ** max : 100.0\n",
    "                               ** unit : degC\n",
    "                               ** uri : \n",
    "     - outputs:\n",
    "                 * name: tavg\n",
    "                               ** description : mean temperature\n",
    "                               ** variablecategory : auxiliary\n",
    "                               ** datatype : DOUBLE\n",
    "                               ** min : 0.0\n",
    "                               ** max : 500.0\n",
    "                               ** unit : degC\n",
    "                               ** uri : \n",
    "    \"\"\"\n",
    "\n",
    "    tavg = (tmin + tmax) / 2\n",
    "    return tavg"
   ]
  },
  {
   "cell_type": "code",
   "execution_count": null,
   "id": "illegal-charity",
   "metadata": {},
   "outputs": [],
   "source": [
    "from pycropml.units import u"
   ]
  },
  {
   "cell_type": "code",
   "execution_count": null,
   "id": "recreational-horse",
   "metadata": {},
   "outputs": [],
   "source": [
    "params= model_tavg(\n",
    "    tmin = 0.5*u.degC,\n",
    "    tmax = 2*u.degC,\n",
    "     )\n",
    "tavg_estimated =params.round(2)*params.units\n",
    "tavg_computed = 1.25*u.degC\n",
    "assert tavg_computed == tavg_estimated"
   ]
  }
 ],
 "metadata": {},
 "nbformat": 4,
 "nbformat_minor": 5
}
