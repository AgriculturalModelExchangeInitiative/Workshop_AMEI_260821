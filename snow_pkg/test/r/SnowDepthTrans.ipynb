{
 "cells": [
  {
   "cell_type": "markdown",
   "id": "deadly-authority",
   "metadata": {},
   "source": [
    "# Automatic generation of Notebook using PyCropML\n",
    "    This notebook implements a crop model."
   ]
  },
  {
   "cell_type": "markdown",
   "id": "patent-tender",
   "metadata": {},
   "source": [
    "### Model SnowDepthTrans"
   ]
  },
  {
   "cell_type": "code",
   "execution_count": null,
   "id": "democratic-terrace",
   "metadata": {},
   "outputs": [],
   "source": [
    "model_SnowDepthTrans <- function (Sdepth = 0.0,\n",
    "         Pns = 100.0){\n",
    "    #'- Name: SnowDepthTrans -Version: 1.0, -Time step: 1\n",
    "    #'- Description:\n",
    "    #'            * Title: snow cover depth conversion\n",
    "    #'            * Author: STICS\n",
    "    #'            * Reference: -\n",
    "    #'            * Institution: INRA\n",
    "    #'            * Abstract: -\n",
    "    #'- inputs:\n",
    "    #'            * name: Sdepth\n",
    "    #'                          ** description : snow cover depth Calculation\n",
    "    #'                          ** inputtype : variable\n",
    "    #'                          ** variablecategory : state\n",
    "    #'                          ** datatype : DOUBLE\n",
    "    #'                          ** default : 0.0\n",
    "    #'                          ** min : 0.0\n",
    "    #'                          ** max : 500.0\n",
    "    #'                          ** unit : m\n",
    "    #'                          ** uri : \n",
    "    #'            * name: Pns\n",
    "    #'                          ** description : density of the new snow\n",
    "    #'                          ** inputtype : parameter\n",
    "    #'                          ** parametercategory : constant\n",
    "    #'                          ** datatype : DOUBLE\n",
    "    #'                          ** default : 100.0\n",
    "    #'                          ** min : \n",
    "    #'                          ** max : \n",
    "    #'                          ** unit : cm/m\n",
    "    #'                          ** uri : \n",
    "    #'- outputs:\n",
    "    #'            * name: Sdepth_cm\n",
    "    #'                          ** description : snow cover depth in cm\n",
    "    #'                          ** variablecategory : state\n",
    "    #'                          ** datatype : DOUBLE\n",
    "    #'                          ** min : 0.0\n",
    "    #'                          ** max : 500.0\n",
    "    #'                          ** unit : cm\n",
    "    #'                          ** uri : \n",
    "    Sdepth_cm <- Sdepth * Pns\n",
    "    return (list('Sdepth_cm' = Sdepth_cm))\n",
    "}"
   ]
  },
  {
   "cell_type": "code",
   "execution_count": null,
   "id": "separate-biography",
   "metadata": {},
   "outputs": [],
   "source": [
    "library(assertthat)\n",
    "\n",
    "\n",
    "test_test_snow1<-function(){\n",
    "    params= model_snowdepthtrans(\n",
    "        Pns = 100.0,\n",
    "        Sdepth = 0.050\n",
    "        )\n",
    "    Sdepth_cm_estimated = params$Sdepth_cm\n",
    "    Sdepth_cm_computed = 5\n",
    "    assert_that(all.equal(Sdepth_cm_estimated, Sdepth_cm_computed, scale=1, tol=0.2)==TRUE)\n",
    "}\n",
    "test_test_snow1()"
   ]
  }
 ],
 "metadata": {},
 "nbformat": 4,
 "nbformat_minor": 5
}
