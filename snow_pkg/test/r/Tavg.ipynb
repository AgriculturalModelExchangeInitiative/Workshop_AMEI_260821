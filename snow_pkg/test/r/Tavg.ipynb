{
 "cells": [
  {
   "cell_type": "markdown",
   "id": "reliable-killer",
   "metadata": {},
   "source": [
    "# Automatic generation of Notebook using PyCropML\n",
    "    This notebook implements a crop model."
   ]
  },
  {
   "cell_type": "markdown",
   "id": "clear-young",
   "metadata": {},
   "source": [
    "### Model Tavg"
   ]
  },
  {
   "cell_type": "code",
   "execution_count": null,
   "id": "eleven-arkansas",
   "metadata": {},
   "outputs": [],
   "source": [
    "model_Tavg <- function (tmin = 0.0,\n",
    "         tmax = 0.0){\n",
    "    #'- Name: Tavg -Version: 1.0, -Time step: 1\n",
    "    #'- Description:\n",
    "    #'            * Title: Mean temperature  calculation\n",
    "    #'            * Author: STICS\n",
    "    #'            * Reference: -\n",
    "    #'            * Institution: INRA\n",
    "    #'            * Abstract: -\n",
    "    #'- inputs:\n",
    "    #'            * name: tmin\n",
    "    #'                          ** description : current minimum air temperature\n",
    "    #'                          ** inputtype : variable\n",
    "    #'                          ** variablecategory : auxiliary\n",
    "    #'                          ** datatype : DOUBLE\n",
    "    #'                          ** default : 0.0\n",
    "    #'                          ** min : 0.0\n",
    "    #'                          ** max : 500.0\n",
    "    #'                          ** unit : degC\n",
    "    #'                          ** uri : \n",
    "    #'            * name: tmax\n",
    "    #'                          ** description : current maximum air temperature\n",
    "    #'                          ** inputtype : variable\n",
    "    #'                          ** variablecategory : auxiliary\n",
    "    #'                          ** datatype : DOUBLE\n",
    "    #'                          ** default : 0.0\n",
    "    #'                          ** min : 0.0\n",
    "    #'                          ** max : 100.0\n",
    "    #'                          ** unit : degC\n",
    "    #'                          ** uri : \n",
    "    #'- outputs:\n",
    "    #'            * name: tavg\n",
    "    #'                          ** description : mean temperature\n",
    "    #'                          ** variablecategory : auxiliary\n",
    "    #'                          ** datatype : DOUBLE\n",
    "    #'                          ** min : 0.0\n",
    "    #'                          ** max : 500.0\n",
    "    #'                          ** unit : degC\n",
    "    #'                          ** uri : \n",
    "    tavg <- (tmin + tmax) / 2\n",
    "    return (list('tavg' = tavg))\n",
    "}"
   ]
  },
  {
   "cell_type": "code",
   "execution_count": null,
   "id": "heated-concept",
   "metadata": {},
   "outputs": [],
   "source": [
    "library(assertthat)\n",
    "\n",
    "\n",
    "test_test_snow1<-function(){\n",
    "    params= model_tavg(\n",
    "        tmin = 0.5,\n",
    "        tmax = 2\n",
    "        )\n",
    "    tavg_estimated = params$tavg\n",
    "    tavg_computed = 1.25\n",
    "    assert_that(all.equal(tavg_estimated, tavg_computed, scale=1, tol=0.2)==TRUE)\n",
    "}\n",
    "test_test_snow1()"
   ]
  }
 ],
 "metadata": {},
 "nbformat": 4,
 "nbformat_minor": 5
}
